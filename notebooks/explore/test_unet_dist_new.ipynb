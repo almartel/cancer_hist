{
 "cells": [
  {
   "cell_type": "code",
   "execution_count": 3,
   "metadata": {},
   "outputs": [
    {
     "name": "stdout",
     "output_type": "stream",
     "text": [
      "The autoreload extension is already loaded. To reload it, use:\n",
      "  %reload_ext autoreload\n",
      "/home/rbbidart/cancer_hist/src\n"
     ]
    }
   ],
   "source": [
    "import os\n",
    "import sys\n",
    "import glob\n",
    "import pandas\n",
    "import numpy as np\n",
    "import random\n",
    "from PIL import Image\n",
    "from numpy import linalg as LA\n",
    "from scipy.spatial import distance\n",
    "from scipy.spatial.distance import cdist\n",
    "import scipy.misc\n",
    "from scipy.ndimage import rotate\n",
    "import matplotlib.pyplot as plt \n",
    "from matplotlib.pyplot import imshow\n",
    "from bs4 import BeautifulSoup\n",
    "import xml.etree.cElementTree as ET\n",
    "from pylab import rcParams\n",
    "rcParams['figure.figsize'] = 5, 10\n",
    "%matplotlib inline\n",
    "\n",
    "\n",
    "# Import modules every time you run code imported using %aimport\n",
    "%load_ext autoreload\n",
    "%autoreload 1\n",
    "\n",
    "# Add the src directory for functions\n",
    "src_dir = os.path.join(os.path.dirname(os.path.dirname(os.getcwd())), 'src')\n",
    "print(src_dir)\n",
    "sys.path.append(src_dir)\n",
    "\n",
    "# import my functions:\n",
    "%aimport unet_models\n",
    "from unet_models import*\n",
    "\n",
    "%aimport unet_functions\n",
    "from unet_functions import*\n",
    "\n",
    "base_data_dir = 'project/rbbidart/cancer_hist'"
   ]
  },
  {
   "cell_type": "code",
   "execution_count": 5,
   "metadata": {},
   "outputs": [
    {
     "ename": "FileNotFoundError",
     "evalue": "[Errno 2] No such file or directory: '/Users/rb/Documents/waterloo/projects/cancer_hist/full_slides2/test/7_Region_0_crop.tif'",
     "output_type": "error",
     "traceback": [
      "\u001b[0;31m---------------------------------------------------------------------------\u001b[0m",
      "\u001b[0;31mFileNotFoundError\u001b[0m                         Traceback (most recent call last)",
      "\u001b[0;32m<ipython-input-5-e77cc7b73f0c>\u001b[0m in \u001b[0;36m<module>\u001b[0;34m()\u001b[0m\n\u001b[1;32m      2\u001b[0m \u001b[0;31m# not from correct ttv split\u001b[0m\u001b[0;34m\u001b[0m\u001b[0;34m\u001b[0m\u001b[0m\n\u001b[1;32m      3\u001b[0m \u001b[0mimage_loc\u001b[0m \u001b[0;34m=\u001b[0m \u001b[0;34m'/Users/rb/Documents/waterloo/projects/cancer_hist/full_slides2/test/7_Region_0_crop.tif'\u001b[0m\u001b[0;34m\u001b[0m\u001b[0m\n\u001b[0;32m----> 4\u001b[0;31m \u001b[0mimage\u001b[0m \u001b[0;34m=\u001b[0m \u001b[0mnp\u001b[0m\u001b[0;34m.\u001b[0m\u001b[0masarray\u001b[0m\u001b[0;34m(\u001b[0m\u001b[0mImage\u001b[0m\u001b[0;34m.\u001b[0m\u001b[0mopen\u001b[0m\u001b[0;34m(\u001b[0m\u001b[0mimage_loc\u001b[0m\u001b[0;34m)\u001b[0m\u001b[0;34m)\u001b[0m\u001b[0;34m\u001b[0m\u001b[0m\n\u001b[0m\u001b[1;32m      5\u001b[0m \u001b[0;34m\u001b[0m\u001b[0m\n\u001b[1;32m      6\u001b[0m \u001b[0mprint\u001b[0m\u001b[0;34m(\u001b[0m\u001b[0mimage\u001b[0m\u001b[0;34m.\u001b[0m\u001b[0mshape\u001b[0m\u001b[0;34m)\u001b[0m\u001b[0;34m\u001b[0m\u001b[0m\n",
      "\u001b[0;32m~/tensorflow/lib/python3.5/site-packages/PIL/Image.py\u001b[0m in \u001b[0;36mopen\u001b[0;34m(fp, mode)\u001b[0m\n\u001b[1;32m   2528\u001b[0m \u001b[0;34m\u001b[0m\u001b[0m\n\u001b[1;32m   2529\u001b[0m     \u001b[0;32mif\u001b[0m \u001b[0mfilename\u001b[0m\u001b[0;34m:\u001b[0m\u001b[0;34m\u001b[0m\u001b[0m\n\u001b[0;32m-> 2530\u001b[0;31m         \u001b[0mfp\u001b[0m \u001b[0;34m=\u001b[0m \u001b[0mbuiltins\u001b[0m\u001b[0;34m.\u001b[0m\u001b[0mopen\u001b[0m\u001b[0;34m(\u001b[0m\u001b[0mfilename\u001b[0m\u001b[0;34m,\u001b[0m \u001b[0;34m\"rb\"\u001b[0m\u001b[0;34m)\u001b[0m\u001b[0;34m\u001b[0m\u001b[0m\n\u001b[0m\u001b[1;32m   2531\u001b[0m         \u001b[0mexclusive_fp\u001b[0m \u001b[0;34m=\u001b[0m \u001b[0;32mTrue\u001b[0m\u001b[0;34m\u001b[0m\u001b[0m\n\u001b[1;32m   2532\u001b[0m \u001b[0;34m\u001b[0m\u001b[0m\n",
      "\u001b[0;31mFileNotFoundError\u001b[0m: [Errno 2] No such file or directory: '/Users/rb/Documents/waterloo/projects/cancer_hist/full_slides2/test/7_Region_0_crop.tif'"
     ]
    }
   ],
   "source": [
    "model_loc = '/Users/rb/Google_Drive/Waterloo/projects/cancer_hist_out/unet_dist/sshfs/unet_paper_custom_aug_0001_2/unet_paper_custom_aug_.89-154.19.hdf5'\n",
    "# not from correct ttv split\n",
    "image_loc = 'full_slides2/valid/0/15_Region_55_crop.tif'\n",
    "image = np.asarray(Image.open(image_loc))\n",
    "\n",
    "print(image.shape)\n",
    "model = unet_paper(learning_rate=.0001)\n",
    "model.load_weights(model_loc)\n",
    "image_pad = np.zeros((600, 1000, 3))\n",
    "print(image_pad.shape)\n",
    "image_pad[:image.shape[0],:image.shape[1] , :] = image\n",
    "image_pad = np.expand_dims(image_pad, axis=0)\n",
    "\n",
    "heat = model.predict(image_pad, batch_size=1, verbose=0)\n",
    "heat=np.squeeze(heat)\n",
    "print(heat.shape)\n",
    "heat = heat[:image.shape[0],:image.shape[1] , :]\n",
    "print(heat.shape)\n",
    "\n",
    "f = plt.figure(figsize=(10,10))\n",
    "plt.imshow(image)\n",
    "f = plt.figure(figsize=(10,10))\n",
    "plt.imshow(heat[:, :, 0])\n",
    "f = plt.figure(figsize=(10,10))\n",
    "plt.imshow(heat[:, :, 1])\n",
    "f = plt.figure(figsize=(10,10))\n",
    "plt.imshow(heat[:, :, 2])\n",
    "f = plt.figure(figsize=(10,10))\n",
    "plt.imshow(heat[:, :, 3])"
   ]
  },
  {
   "cell_type": "code",
   "execution_count": null,
   "metadata": {},
   "outputs": [],
   "source": []
  }
 ],
 "metadata": {
  "kernelspec": {
   "display_name": "Python 3",
   "language": "python",
   "name": "python3"
  },
  "language_info": {
   "codemirror_mode": {
    "name": "ipython",
    "version": 3
   },
   "file_extension": ".py",
   "mimetype": "text/x-python",
   "name": "python",
   "nbconvert_exporter": "python",
   "pygments_lexer": "ipython3",
   "version": "3.5.2"
  }
 },
 "nbformat": 4,
 "nbformat_minor": 2
}
