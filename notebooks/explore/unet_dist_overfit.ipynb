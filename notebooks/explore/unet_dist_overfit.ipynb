{
 "cells": [
  {
   "cell_type": "markdown",
   "metadata": {},
   "source": [
    "# Debug Model Training\n",
    "* Find the correct distance loss to overfit a small dataset\n",
    "* Look at heatmaps produced to see if they are resonable\n",
    "* Are cyclical learning rates useful here? possibly hard to tell by only looking at overfitting\n",
    "\n",
    "Check which models could be useful:\n",
    "1. unet_standard - close to the original unet model paper\n",
    "2. unet_mid - smaller version of the original\n",
    "3. unet_mid2 - mid but with some batchnorm \n",
    "4. unet_paper - forget which paper this is from\n"
   ]
  },
  {
   "cell_type": "code",
   "execution_count": 1,
   "metadata": {},
   "outputs": [
    {
     "name": "stdout",
     "output_type": "stream",
     "text": [
      "/home/rbbidart/cancer_hist/src\n"
     ]
    },
    {
     "name": "stderr",
     "output_type": "stream",
     "text": [
      "Using TensorFlow backend.\n"
     ]
    }
   ],
   "source": [
    "import os\n",
    "import sys\n",
    "import glob\n",
    "import pandas\n",
    "import numpy as np\n",
    "import random\n",
    "from PIL import Image\n",
    "from numpy import linalg as LA\n",
    "from scipy.spatial import distance\n",
    "from scipy.spatial.distance import cdist\n",
    "import scipy.misc\n",
    "from scipy.ndimage import rotate\n",
    "import matplotlib.pyplot as plt \n",
    "from matplotlib.pyplot import imshow\n",
    "from bs4 import BeautifulSoup\n",
    "import xml.etree.cElementTree as ET\n",
    "from pylab import rcParams\n",
    "rcParams['figure.figsize'] = 5, 10\n",
    "%matplotlib inline\n",
    "\n",
    "\n",
    "# Import modules every time you run code imported using %aimport\n",
    "%load_ext autoreload\n",
    "%autoreload 1\n",
    "\n",
    "# Add the src directory for functions\n",
    "src_dir = os.path.join(os.path.dirname(os.path.dirname(os.getcwd())), 'src')\n",
    "print(src_dir)\n",
    "sys.path.append(src_dir)\n",
    "\n",
    "# import my functions:\n",
    "%aimport unet_dist_models\n",
    "from unet_dist_models import*\n",
    "\n",
    "%aimport unet_dist_functions\n",
    "from unet_dist_functions import*\n",
    "\n",
    "base_data_dir = '/home/rbbidart/project/rbbidart/cancer_hist'"
   ]
  },
  {
   "cell_type": "markdown",
   "metadata": {},
   "source": [
    "### Make a sample dataset to overfit"
   ]
  },
  {
   "cell_type": "code",
   "execution_count": 12,
   "metadata": {},
   "outputs": [
    {
     "name": "stdout",
     "output_type": "stream",
     "text": [
      "Total number:  22 Sample number:  5\n"
     ]
    }
   ],
   "source": [
    "# data_loc = os.path.join(base_data_dir, 'full_slides2', 'train')\n",
    "# out_loc = os.path.join(base_data_dir, 'full_slides2_sample', 'train')\n",
    "# make_sample_unet_dataset(data_loc, out_loc, downsample_factor=8)\n",
    "\n",
    "# data_loc = os.path.join(base_data_dir, 'full_slides2', 'valid')\n",
    "# out_loc = os.path.join(base_data_dir, 'full_slides2_sample', 'valid')\n",
    "# make_sample_unet_dataset(data_loc, out_loc, downsample_factor=4)"
   ]
  },
  {
   "cell_type": "markdown",
   "metadata": {},
   "source": [
    "## Test unet_mid\n",
    "* Try with d_weight values of .5, .75, .97"
   ]
  },
  {
   "cell_type": "code",
   "execution_count": 14,
   "metadata": {
    "collapsed": true
   },
   "outputs": [],
   "source": [
    "sample_train_dir = os.path.join(base_data_dir, 'full_slides2_sample')\n",
    "sample_label_dir = os.path.join(base_data_dir, 'im_dist_labels')\n",
    "train_ex = os.path.join(sample_train_dir, '107_Region_3_crop.tif')\n",
    "valid_ex = os.path.join(sample_train_dir, '7_Region_0_crop.tif')"
   ]
  },
  {
   "cell_type": "code",
   "execution_count": null,
   "metadata": {},
   "outputs": [
    {
     "name": "stdout",
     "output_type": "stream",
     "text": [
      ".97\n",
      "/home/rbbidart/project/rbbidart/cancer_hist/full_slides2_sample/valid/0\n",
      "num_train 10\n",
      "num_valid 5\n",
      "validation_steps 1.0\n",
      "Epoch 1/100\n",
      "1/2 [==============>...............] - ETA: 13s - loss: 241.9116 - distance_loss: 241.9116"
     ]
    }
   ],
   "source": [
    "# .5\n",
    "\n",
    "os.chdir(src_dir)\n",
    "%run unet_dist_train_debug.py /home/rbbidart/project/rbbidart/cancer_hist/full_slides2_sample \\\n",
    "/home/rbbidart/project/rbbidart/cancer_hist/im_dist_labels 100 4 unet_standard .97 \\\n",
    "/home/rbbidart/project/rbbidart/cancer_hist/full_slides2_sample/train/0 \\\n",
    "/home/rbbidart/project/rbbidart/cancer_hist/full_slides2_sample/valid/0"
   ]
  },
  {
   "cell_type": "code",
   "execution_count": null,
   "metadata": {
    "collapsed": true
   },
   "outputs": [],
   "source": [
    "# .75\n",
    "\n",
    "os.chdir(src_dir)\n",
    "%run unet_dist_train_debug.py /home/rbbidart/project/rbbidart/cancer_hist/full_slides2_sample \\\n",
    "/home/rbbidart/project/rbbidart/cancer_hist/im_dist_labels 100 4 unet_mid2 .75 \\\n",
    "/home/rbbidart/project/rbbidart/cancer_hist/full_slides2_sample/train/0 \\\n",
    "/home/rbbidart/project/rbbidart/cancer_hist/full_slides2_sample/valid/0"
   ]
  },
  {
   "cell_type": "code",
   "execution_count": null,
   "metadata": {
    "collapsed": true
   },
   "outputs": [],
   "source": [
    "# .97\n",
    "\n",
    "os.chdir(src_dir)\n",
    "%run unet_dist_train_debug.py /home/rbbidart/project/rbbidart/cancer_hist/full_slides2_sample \\\n",
    "/home/rbbidart/project/rbbidart/cancer_hist/im_dist_labels 100 4 unet_mid2 .5 \\\n",
    "/home/rbbidart/project/rbbidart/cancer_hist/full_slides2_sample/train/0 \\\n",
    "/home/rbbidart/project/rbbidart/cancer_hist/full_slides2_sample/valid/0"
   ]
  },
  {
   "cell_type": "code",
   "execution_count": null,
   "metadata": {
    "collapsed": true
   },
   "outputs": [],
   "source": []
  }
 ],
 "metadata": {
  "kernelspec": {
   "display_name": "Python 3",
   "language": "python",
   "name": "python3"
  },
  "language_info": {
   "codemirror_mode": {
    "name": "ipython",
    "version": 3
   },
   "file_extension": ".py",
   "mimetype": "text/x-python",
   "name": "python",
   "nbconvert_exporter": "python",
   "pygments_lexer": "ipython3",
   "version": "3.6.1"
  }
 },
 "nbformat": 4,
 "nbformat_minor": 2
}
